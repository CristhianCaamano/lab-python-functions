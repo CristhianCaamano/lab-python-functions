{
 "cells": [
  {
   "cell_type": "code",
   "execution_count": 22,
   "id": "680d4db1-e22b-4520-a48c-3f2f5659b9da",
   "metadata": {},
   "outputs": [],
   "source": [
    "#Define a function named initialize_inventory that takes products as a parameter. \n",
    "#Inside the function, implement the code for initializing the inventory dictionary using a loop and user input.\n",
    "products = ['t-shirt', 'mug', 'hat', 'book', 'keychain']\n",
    "\n",
    "def initialize_inventory(products):\n",
    "    inventory = {}\n",
    "    for product in products:\n",
    "        quantity = int(input(f'Choose quantity of {products}: '))\n",
    "        inventory[product] = quantity\n",
    "    return inventory\n",
    "\n",
    "#Define a function named get_customer_orders that takes no parameters. Inside the function, implement the code for prompting the user to enter the product names using a loop. The function should return the customer_orders set.\n",
    "\n",
    "def get_customer_orders():\n",
    "    customer_orders = set()\n",
    "    \n",
    "    while True:\n",
    "        product = input(f\"Enter the name of {products} that the customer wants to order: \")\n",
    "        if product not in products:\n",
    "            print(\"Invalid product name.\")\n",
    "        add_product = input(f\"Enter the name of a {products} that the customer wants to order: \")\n",
    "        customer_orders.add(product)\n",
    "        answer = input(\"Do you want to add another product? (yes/no): \")\n",
    "        if answer == 'no':\n",
    "            break\n",
    "    return customer_orders\n",
    "\n",
    "#Define a function named update_inventory that takes customer_orders and inventory as parameters. Inside the function, implement the code for updating the inventory dictionary based on the customer orders.\n",
    "\n",
    "def update_inventory(customer_orders, inventory):\n",
    "    for product in customer_orders:\n",
    "        if product in inventory:\n",
    "            inventory[product] -= 1\n",
    "    return inventory\n",
    "\n",
    "#Define a function named `calculate_order_statistics` that takes `customer_orders` and `products` as parameters. Inside the function, implement the code for calculating the order statistics (total products ordered, and percentage of unique products ordered). The function should return these values.\n",
    "\n",
    "def calculate_order_statistics(customer_orders, products):\n",
    "    total_products_ordered = len(customer_orders)\n",
    "    unique_products = set(products)\n",
    "    percentage = (total_products_ordered / len(unique_products)) * 100\n",
    "    return total_products_ordered, percentage\n",
    "\n",
    "\n",
    "#Define a function named `print_order_statistics` that takes `order_statistics` as a parameter. Inside the function, implement the code for printing the order statistics.\n",
    "\n",
    "def print_order_statistics(order_statistics):\n",
    "    total_products_ordered, percentage_ordered = order_statistics\n",
    "    print(\"Order Statistics:\")\n",
    "    print(f\"Total Products Ordered: {total_products_ordered}\")\n",
    "    print(f\"Percentage of Products Ordered: {percentage_ordered}%\")\n",
    "\n",
    "#Define a function named `print_updated_inventory` that takes `inventory` as a parameter. Inside the function, implement the code for printing the updated inventory.\n",
    "\n",
    "def print_updated_inventory(inventory):\n",
    "    print(\"Updated Inventory:\")\n",
    "    for product, quantity in inventory.items():\n",
    "        print(f\"{product}: {quantity}\")"
   ]
  },
  {
   "cell_type": "code",
   "execution_count": 24,
   "id": "58c02c3d-9084-4247-9c62-98e5262c93d0",
   "metadata": {},
   "outputs": [
    {
     "name": "stdin",
     "output_type": "stream",
     "text": [
      "Choose quantity of ['t-shirt', 'mug', 'hat', 'book', 'keychain']:  1\n",
      "Choose quantity of ['t-shirt', 'mug', 'hat', 'book', 'keychain']:  2\n",
      "Choose quantity of ['t-shirt', 'mug', 'hat', 'book', 'keychain']:  3\n",
      "Choose quantity of ['t-shirt', 'mug', 'hat', 'book', 'keychain']:  4\n",
      "Choose quantity of ['t-shirt', 'mug', 'hat', 'book', 'keychain']:  5\n",
      "Enter the name of ['t-shirt', 'mug', 'hat', 'book', 'keychain'] that the customer wants to order:  \n"
     ]
    },
    {
     "name": "stdout",
     "output_type": "stream",
     "text": [
      "Invalid product name.\n"
     ]
    },
    {
     "name": "stdin",
     "output_type": "stream",
     "text": [
      "Enter the name of a ['t-shirt', 'mug', 'hat', 'book', 'keychain'] that the customer wants to order:  mug\n",
      "Do you want to add another product? (yes/no):  yes\n",
      "Enter the name of ['t-shirt', 'mug', 'hat', 'book', 'keychain'] that the customer wants to order:  hat\n",
      "Enter the name of a ['t-shirt', 'mug', 'hat', 'book', 'keychain'] that the customer wants to order:  book\n",
      "Do you want to add another product? (yes/no):  no\n"
     ]
    },
    {
     "name": "stdout",
     "output_type": "stream",
     "text": [
      "Order Statistics:\n",
      "Total Products Ordered: 2\n",
      "Percentage of Products Ordered: 40.0%\n",
      "Updated Inventory:\n",
      "t-shirt: 1\n",
      "mug: 2\n",
      "hat: 2\n",
      "book: 4\n",
      "keychain: 5\n"
     ]
    }
   ],
   "source": [
    "inventory = initialize_inventory(products)\n",
    "customer_orders = get_customer_orders()\n",
    "updated_inventory = update_inventory(customer_orders, inventory)\n",
    "order_statistics = calculate_order_statistics(customer_orders, products)\n",
    "print_order_statistics(order_statistics)\n",
    "print_updated_inventory(updated_inventory)"
   ]
  },
  {
   "cell_type": "code",
   "execution_count": null,
   "id": "de11d36b-b6d0-407c-8c2a-ab3811b77e29",
   "metadata": {},
   "outputs": [],
   "source": []
  }
 ],
 "metadata": {
  "kernelspec": {
   "display_name": "Python 3 (ipykernel)",
   "language": "python",
   "name": "python3"
  },
  "language_info": {
   "codemirror_mode": {
    "name": "ipython",
    "version": 3
   },
   "file_extension": ".py",
   "mimetype": "text/x-python",
   "name": "python",
   "nbconvert_exporter": "python",
   "pygments_lexer": "ipython3",
   "version": "3.12.7"
  }
 },
 "nbformat": 4,
 "nbformat_minor": 5
}
